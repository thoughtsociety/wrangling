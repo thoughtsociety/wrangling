{
 "cells": [
  {
   "cell_type": "markdown",
   "metadata": {},
   "source": [
    "![My Logo](https://mlpractitioner.com/wp-content/uploads/generic-soc-media-hero-logo-lockup.png)"
   ]
  },
  {
   "cell_type": "markdown",
   "metadata": {},
   "source": [
    "# General Python File I/O\n",
    "\n",
    "In Python, it comes down to a handful of operations for file I/O:\n",
    "\n",
    "* Create\n",
    "* Append\n",
    "* Write\n",
    "* Read\n",
    "\n",
    "We can also look at reading line-by-line which is useful\n",
    "\n",
    "* readline()\n",
    "* readlines()\n",
    "\n",
    "Binary file i/o is also common and used in many situations.\n",
    "\n",
    "* thing = f.open('file.xxx','rb')\n"
   ]
  },
  {
   "cell_type": "markdown",
   "metadata": {},
   "source": [
    "## File modes\n",
    "\n",
    "As in other programming languages across different O/S's, we have to create a file handle which instantiates the 'file object' so we can execute methods on it.\n",
    "\n",
    "'r'\tOpens file for reading (default)\n",
    "'w'\tOpen file for writing\n",
    "'x'\tCreates a new file. Fails if file already exists\n",
    "'a'\tOpen file in append mode\n",
    "'t'\tOpen in text mode\n",
    "'b'\tOpens in binary mode\n",
    "'+'\tOpen a file for updating\n",
    "\n",
    "### Examples\n",
    "\n",
    "f = open('file_name.ext', 'w')\n",
    "This makes 'f' the instance of the file handle opened for 'write' in text mode\n",
    "\n",
    "#### Create some data\n",
    "\n",
    "file_data = [1,5,7,9,11,13]\n",
    "\n",
    "#### Write that data to the file instance 'f'\n",
    "\n",
    "f.write(file_data) # file_data gets writtent to 'file_name.ext'\n",
    "\n",
    "#### Now read it back into a new variable\n",
    "\n",
    "stuff = f.read() # reads the entire file\n",
    "\n",
    "### Pretty simple \n",
    "There are a few more cases based on the modes above"
   ]
  },
  {
   "cell_type": "markdown",
   "metadata": {},
   "source": [
    "## Text file i/o"
   ]
  },
  {
   "cell_type": "code",
   "execution_count": null,
   "metadata": {},
   "outputs": [],
   "source": [
    "# Now lets generate a line-oriented file to play with"
   ]
  },
  {
   "cell_type": "code",
   "execution_count": 1,
   "metadata": {},
   "outputs": [],
   "source": [
    "# create the file\n",
    "\n",
    "f = open(\"line-by-line.txt\",\"w+\")"
   ]
  },
  {
   "cell_type": "code",
   "execution_count": 2,
   "metadata": {},
   "outputs": [
    {
     "name": "stdout",
     "output_type": "stream",
     "text": [
      "-rw-r--r--  1 salvideoguy  staff  0 Dec  5 11:33 line-by-line.txt\r\n"
     ]
    }
   ],
   "source": [
    "!ls -al line-by-line.txt"
   ]
  },
  {
   "cell_type": "code",
   "execution_count": 3,
   "metadata": {},
   "outputs": [],
   "source": [
    "for i in range(10):\n",
    "     f.write(\"The contents of line %d\\r\\n\" % (i+1))\n",
    "# Close it right after writing the lines\n",
    "f.close()"
   ]
  },
  {
   "cell_type": "code",
   "execution_count": 4,
   "metadata": {},
   "outputs": [
    {
     "name": "stdout",
     "output_type": "stream",
     "text": [
      "The contents of line 1\r",
      "\r\n",
      "The contents of line 2\r",
      "\r\n",
      "The contents of line 3\r",
      "\r\n",
      "The contents of line 4\r",
      "\r\n",
      "The contents of line 5\r",
      "\r\n",
      "The contents of line 6\r",
      "\r\n",
      "The contents of line 7\r",
      "\r\n",
      "The contents of line 8\r",
      "\r\n",
      "The contents of line 9\r",
      "\r\n",
      "The contents of line 10\r",
      "\r\n"
     ]
    }
   ],
   "source": [
    "!cat line-by-line.txt"
   ]
  },
  {
   "cell_type": "code",
   "execution_count": 5,
   "metadata": {},
   "outputs": [],
   "source": [
    "# Let's append more text to the file\n",
    "# Re-open it for append\n",
    "f=open(\"line-by-line.txt\",'a+')"
   ]
  },
  {
   "cell_type": "code",
   "execution_count": 6,
   "metadata": {},
   "outputs": [],
   "source": [
    "# write in append mode, 4 more lines with different text\n",
    "for i in range(4):\n",
    "    f.write('More stuff %d\\r\\n' % (i+1))"
   ]
  },
  {
   "cell_type": "code",
   "execution_count": 7,
   "metadata": {},
   "outputs": [],
   "source": [
    "# Now, some file reading"
   ]
  },
  {
   "cell_type": "code",
   "execution_count": 8,
   "metadata": {},
   "outputs": [
    {
     "name": "stdout",
     "output_type": "stream",
     "text": [
      "The contents of line 1\n",
      "The contents of line 2\n",
      "The contents of line 3\n",
      "The contents of line 4\n",
      "The contents of line 5\n",
      "The contents of line 6\n",
      "The contents of line 7\n",
      "The contents of line 8\n",
      "The contents of line 9\n",
      "The contents of line 10\n",
      "More stuff 1\n",
      "More stuff 2\n",
      "More stuff 3\n",
      "More stuff 4\n",
      "\n"
     ]
    }
   ],
   "source": [
    "# Open it again for read\n",
    "f=open('line-by-line.txt','r')\n",
    "# Make sure we have it in open mode\n",
    "if f.mode== 'r':\n",
    "    stuff = f.read()  # Read everythbing\n",
    "    print(stuff)      # Print everything"
   ]
  },
  {
   "cell_type": "code",
   "execution_count": 9,
   "metadata": {},
   "outputs": [
    {
     "name": "stdout",
     "output_type": "stream",
     "text": [
      "The contents of line 1\n",
      "\n",
      "The contents of line 2\n",
      "\n",
      "The contents of line 3\n",
      "\n",
      "The contents of line 4\n",
      "\n",
      "The contents of line 5\n",
      "\n",
      "The contents of line 6\n",
      "\n",
      "The contents of line 7\n",
      "\n",
      "The contents of line 8\n",
      "\n",
      "The contents of line 9\n",
      "\n",
      "The contents of line 10\n",
      "\n",
      "More stuff 1\n",
      "\n",
      "More stuff 2\n",
      "\n",
      "More stuff 3\n",
      "\n",
      "More stuff 4\n",
      "\n"
     ]
    }
   ],
   "source": [
    "# Read a line at a time using f.readlines()\n",
    "\n",
    "f=open('line-by-line.txt','r')\n",
    "a1 = f.readlines()\n",
    "for z in a1:\n",
    "    print(z)"
   ]
  },
  {
   "cell_type": "code",
   "execution_count": 10,
   "metadata": {},
   "outputs": [],
   "source": [
    "# read one at a time\n",
    "f=open('line-by-line.txt','r')"
   ]
  },
  {
   "cell_type": "code",
   "execution_count": 11,
   "metadata": {},
   "outputs": [
    {
     "data": {
      "text/plain": [
       "'The contents of line 1\\n'"
      ]
     },
     "execution_count": 11,
     "metadata": {},
     "output_type": "execute_result"
    }
   ],
   "source": [
    "# Each invocation reads the next line while the file is open\n",
    "f.readline()"
   ]
  },
  {
   "cell_type": "code",
   "execution_count": 12,
   "metadata": {},
   "outputs": [
    {
     "data": {
      "text/plain": [
       "'The contents of line 2\\n'"
      ]
     },
     "execution_count": 12,
     "metadata": {},
     "output_type": "execute_result"
    }
   ],
   "source": [
    "f.readline()"
   ]
  },
  {
   "cell_type": "code",
   "execution_count": 13,
   "metadata": {},
   "outputs": [
    {
     "data": {
      "text/plain": [
       "'The contents of line 3\\n'"
      ]
     },
     "execution_count": 13,
     "metadata": {},
     "output_type": "execute_result"
    }
   ],
   "source": [
    "f.readline()"
   ]
  },
  {
   "cell_type": "code",
   "execution_count": 14,
   "metadata": {},
   "outputs": [
    {
     "data": {
      "text/plain": [
       "'The contents of line 4\\n'"
      ]
     },
     "execution_count": 14,
     "metadata": {},
     "output_type": "execute_result"
    }
   ],
   "source": [
    "f.readline()"
   ]
  },
  {
   "cell_type": "code",
   "execution_count": 15,
   "metadata": {},
   "outputs": [],
   "source": [
    "# reclose the file\n",
    "f.close()"
   ]
  },
  {
   "cell_type": "markdown",
   "metadata": {},
   "source": [
    "## Binary file i/o"
   ]
  },
  {
   "cell_type": "code",
   "execution_count": 16,
   "metadata": {},
   "outputs": [],
   "source": [
    "# Binary file I/O using pickle to great the serial stream of bytes\n",
    "# Create a small data object - a dictionary"
   ]
  },
  {
   "cell_type": "code",
   "execution_count": 17,
   "metadata": {},
   "outputs": [],
   "source": [
    "import pickle"
   ]
  },
  {
   "cell_type": "code",
   "execution_count": 18,
   "metadata": {},
   "outputs": [
    {
     "data": {
      "text/plain": [
       "{'fruit': ['apples', 'oranges', 'pears', 'grapes'],\n",
       " 'numbers': [1, 2, 3, 4, 5],\n",
       " 'cars': ['ford', 'hundai', 'chevy', 'tesla']}"
      ]
     },
     "execution_count": 18,
     "metadata": {},
     "output_type": "execute_result"
    }
   ],
   "source": [
    "my_stuff = {'fruit':['apples','oranges','pears','grapes'],'numbers':[1,2,3,4,5],'cars':['ford','hundai','chevy','tesla']}\n",
    "my_stuff"
   ]
  },
  {
   "cell_type": "code",
   "execution_count": 19,
   "metadata": {},
   "outputs": [],
   "source": [
    "with open('my_stuff.pickle','wb') as b:\n",
    "    pickle.dump(my_stuff, b)"
   ]
  },
  {
   "cell_type": "code",
   "execution_count": 20,
   "metadata": {},
   "outputs": [
    {
     "name": "stdout",
     "output_type": "stream",
     "text": [
      "-rw-r--r--  1 salvideoguy  staff  170 Dec  5 11:34 my_stuff.pickle\r\n"
     ]
    }
   ],
   "source": [
    "!ls -al my_stuff.pickle"
   ]
  },
  {
   "cell_type": "code",
   "execution_count": 21,
   "metadata": {},
   "outputs": [],
   "source": [
    "with open('my_stuff.pickle','rb') as b:\n",
    "    my_stuff2 = pickle.load(b)"
   ]
  },
  {
   "cell_type": "code",
   "execution_count": 22,
   "metadata": {},
   "outputs": [
    {
     "name": "stdout",
     "output_type": "stream",
     "text": [
      "{'fruit': ['apples', 'oranges', 'pears', 'grapes'], 'numbers': [1, 2, 3, 4, 5], 'cars': ['ford', 'hundai', 'chevy', 'tesla']}\n"
     ]
    }
   ],
   "source": [
    "print(my_stuff2)"
   ]
  },
  {
   "cell_type": "code",
   "execution_count": null,
   "metadata": {},
   "outputs": [],
   "source": [
    "b = open('binary_file.dat','wb')\n",
    "b.write(bin_list)"
   ]
  }
 ],
 "metadata": {
  "kernelspec": {
   "display_name": "Python 3",
   "language": "python",
   "name": "python3"
  },
  "language_info": {
   "codemirror_mode": {
    "name": "ipython",
    "version": 3
   },
   "file_extension": ".py",
   "mimetype": "text/x-python",
   "name": "python",
   "nbconvert_exporter": "python",
   "pygments_lexer": "ipython3",
   "version": "3.7.3"
  }
 },
 "nbformat": 4,
 "nbformat_minor": 2
}
