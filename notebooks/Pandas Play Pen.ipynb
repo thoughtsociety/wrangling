{
 "cells": [
  {
   "cell_type": "markdown",
   "metadata": {},
   "source": [
    "# Pandas Play Pen\n",
    "\n",
    "### Part of Track-2 - Section-3:  Pandas\n",
    "#### Supported by the Blog Post: 'The Essence of Pandas\"\n",
    "\n",
    "Let's work with a real dataset and flex our Pandas muscle\n",
    "\n"
   ]
  },
  {
   "cell_type": "markdown",
   "metadata": {},
   "source": [
    "### This is how it will go:\n",
    "\n",
    "After working through the **'minsuk'** notebook, we now have some experience with basic Pandas manipulations. We can take the feature-rich **Census** dataset and carve it up, slice through it and pull out any number of aggregated insights we choose. Without even getting into visualization at this point, we will be learning alot about this dataset just by grouping, selecting and comparing data. We should also become familiar with the features of this dataset.\n",
    "\n",
    "Hopefully, this puts us in a great position to make use of it to learn **visualization** in Track-4"
   ]
  },
  {
   "cell_type": "markdown",
   "metadata": {},
   "source": [
    "### What we will cover in this notebook:\n",
    "\n",
    "1. Reading a data file into a Pandas dataframe\n",
    "2. Exploring the dataset\n",
    "3. Hygiene (Cleaning)\n",
    "4. Selecting using a number of techniques\n",
    "5. Basic Analysis\n",
    "6. Simple Visualizations"
   ]
  },
  {
   "cell_type": "code",
   "execution_count": 1,
   "metadata": {},
   "outputs": [],
   "source": [
    "import pandas as pd\n",
    "import numpy as np\n",
    "import pickle"
   ]
  },
  {
   "cell_type": "markdown",
   "metadata": {},
   "source": [
    "## Let's read in the csv file"
   ]
  },
  {
   "cell_type": "code",
   "execution_count": 2,
   "metadata": {},
   "outputs": [],
   "source": [
    "# read in the csv data from Kaggle/datasets/census\n",
    "# Replace census_path with your path to the data file\n",
    "# Retrieve \n",
    "data_state_abbrev_path = \"/Volumes/LaCie/datasets/census/US/\"\n",
    "census_path = \"/Volumes/LaCie/datasets/census/us-census-demographic-data/\"\n",
    "census = pd.read_csv(census_path + \"acs2015_census_tract_data.csv\")"
   ]
  },
  {
   "cell_type": "code",
   "execution_count": 3,
   "metadata": {},
   "outputs": [],
   "source": [
    "# Add new column for state abbreviation\n",
    "# census['State Abbreviation'] = np.nan"
   ]
  },
  {
   "cell_type": "code",
   "execution_count": 4,
   "metadata": {},
   "outputs": [
    {
     "data": {
      "text/html": [
       "<div>\n",
       "<style scoped>\n",
       "    .dataframe tbody tr th:only-of-type {\n",
       "        vertical-align: middle;\n",
       "    }\n",
       "\n",
       "    .dataframe tbody tr th {\n",
       "        vertical-align: top;\n",
       "    }\n",
       "\n",
       "    .dataframe thead th {\n",
       "        text-align: right;\n",
       "    }\n",
       "</style>\n",
       "<table border=\"1\" class=\"dataframe\">\n",
       "  <thead>\n",
       "    <tr style=\"text-align: right;\">\n",
       "      <th></th>\n",
       "      <th>CensusTract</th>\n",
       "      <th>State</th>\n",
       "      <th>County</th>\n",
       "      <th>TotalPop</th>\n",
       "      <th>Men</th>\n",
       "      <th>Women</th>\n",
       "      <th>Hispanic</th>\n",
       "      <th>White</th>\n",
       "      <th>Black</th>\n",
       "      <th>Native</th>\n",
       "      <th>...</th>\n",
       "      <th>Walk</th>\n",
       "      <th>OtherTransp</th>\n",
       "      <th>WorkAtHome</th>\n",
       "      <th>MeanCommute</th>\n",
       "      <th>Employed</th>\n",
       "      <th>PrivateWork</th>\n",
       "      <th>PublicWork</th>\n",
       "      <th>SelfEmployed</th>\n",
       "      <th>FamilyWork</th>\n",
       "      <th>Unemployment</th>\n",
       "    </tr>\n",
       "  </thead>\n",
       "  <tbody>\n",
       "    <tr>\n",
       "      <th>0</th>\n",
       "      <td>1001020100</td>\n",
       "      <td>Alabama</td>\n",
       "      <td>Autauga</td>\n",
       "      <td>1948</td>\n",
       "      <td>940</td>\n",
       "      <td>1008</td>\n",
       "      <td>0.9</td>\n",
       "      <td>87.4</td>\n",
       "      <td>7.7</td>\n",
       "      <td>0.3</td>\n",
       "      <td>...</td>\n",
       "      <td>0.5</td>\n",
       "      <td>2.3</td>\n",
       "      <td>2.1</td>\n",
       "      <td>25.0</td>\n",
       "      <td>943</td>\n",
       "      <td>77.1</td>\n",
       "      <td>18.3</td>\n",
       "      <td>4.6</td>\n",
       "      <td>0.0</td>\n",
       "      <td>5.4</td>\n",
       "    </tr>\n",
       "    <tr>\n",
       "      <th>1</th>\n",
       "      <td>1001020200</td>\n",
       "      <td>Alabama</td>\n",
       "      <td>Autauga</td>\n",
       "      <td>2156</td>\n",
       "      <td>1059</td>\n",
       "      <td>1097</td>\n",
       "      <td>0.8</td>\n",
       "      <td>40.4</td>\n",
       "      <td>53.3</td>\n",
       "      <td>0.0</td>\n",
       "      <td>...</td>\n",
       "      <td>0.0</td>\n",
       "      <td>0.7</td>\n",
       "      <td>0.0</td>\n",
       "      <td>23.4</td>\n",
       "      <td>753</td>\n",
       "      <td>77.0</td>\n",
       "      <td>16.9</td>\n",
       "      <td>6.1</td>\n",
       "      <td>0.0</td>\n",
       "      <td>13.3</td>\n",
       "    </tr>\n",
       "    <tr>\n",
       "      <th>2</th>\n",
       "      <td>1001020300</td>\n",
       "      <td>Alabama</td>\n",
       "      <td>Autauga</td>\n",
       "      <td>2968</td>\n",
       "      <td>1364</td>\n",
       "      <td>1604</td>\n",
       "      <td>0.0</td>\n",
       "      <td>74.5</td>\n",
       "      <td>18.6</td>\n",
       "      <td>0.5</td>\n",
       "      <td>...</td>\n",
       "      <td>0.0</td>\n",
       "      <td>0.0</td>\n",
       "      <td>2.5</td>\n",
       "      <td>19.6</td>\n",
       "      <td>1373</td>\n",
       "      <td>64.1</td>\n",
       "      <td>23.6</td>\n",
       "      <td>12.3</td>\n",
       "      <td>0.0</td>\n",
       "      <td>6.2</td>\n",
       "    </tr>\n",
       "    <tr>\n",
       "      <th>3</th>\n",
       "      <td>1001020400</td>\n",
       "      <td>Alabama</td>\n",
       "      <td>Autauga</td>\n",
       "      <td>4423</td>\n",
       "      <td>2172</td>\n",
       "      <td>2251</td>\n",
       "      <td>10.5</td>\n",
       "      <td>82.8</td>\n",
       "      <td>3.7</td>\n",
       "      <td>1.6</td>\n",
       "      <td>...</td>\n",
       "      <td>0.0</td>\n",
       "      <td>2.6</td>\n",
       "      <td>1.6</td>\n",
       "      <td>25.3</td>\n",
       "      <td>1782</td>\n",
       "      <td>75.7</td>\n",
       "      <td>21.2</td>\n",
       "      <td>3.1</td>\n",
       "      <td>0.0</td>\n",
       "      <td>10.8</td>\n",
       "    </tr>\n",
       "    <tr>\n",
       "      <th>4</th>\n",
       "      <td>1001020500</td>\n",
       "      <td>Alabama</td>\n",
       "      <td>Autauga</td>\n",
       "      <td>10763</td>\n",
       "      <td>4922</td>\n",
       "      <td>5841</td>\n",
       "      <td>0.7</td>\n",
       "      <td>68.5</td>\n",
       "      <td>24.8</td>\n",
       "      <td>0.0</td>\n",
       "      <td>...</td>\n",
       "      <td>0.0</td>\n",
       "      <td>0.6</td>\n",
       "      <td>0.9</td>\n",
       "      <td>24.8</td>\n",
       "      <td>5037</td>\n",
       "      <td>67.1</td>\n",
       "      <td>27.6</td>\n",
       "      <td>5.3</td>\n",
       "      <td>0.0</td>\n",
       "      <td>4.2</td>\n",
       "    </tr>\n",
       "  </tbody>\n",
       "</table>\n",
       "<p>5 rows × 37 columns</p>\n",
       "</div>"
      ],
      "text/plain": [
       "   CensusTract    State   County  TotalPop   Men  Women  Hispanic  White  \\\n",
       "0   1001020100  Alabama  Autauga      1948   940   1008       0.9   87.4   \n",
       "1   1001020200  Alabama  Autauga      2156  1059   1097       0.8   40.4   \n",
       "2   1001020300  Alabama  Autauga      2968  1364   1604       0.0   74.5   \n",
       "3   1001020400  Alabama  Autauga      4423  2172   2251      10.5   82.8   \n",
       "4   1001020500  Alabama  Autauga     10763  4922   5841       0.7   68.5   \n",
       "\n",
       "   Black  Native      ...       Walk  OtherTransp  WorkAtHome  MeanCommute  \\\n",
       "0    7.7     0.3      ...        0.5          2.3         2.1         25.0   \n",
       "1   53.3     0.0      ...        0.0          0.7         0.0         23.4   \n",
       "2   18.6     0.5      ...        0.0          0.0         2.5         19.6   \n",
       "3    3.7     1.6      ...        0.0          2.6         1.6         25.3   \n",
       "4   24.8     0.0      ...        0.0          0.6         0.9         24.8   \n",
       "\n",
       "   Employed  PrivateWork  PublicWork  SelfEmployed  FamilyWork  Unemployment  \n",
       "0       943         77.1        18.3           4.6         0.0           5.4  \n",
       "1       753         77.0        16.9           6.1         0.0          13.3  \n",
       "2      1373         64.1        23.6          12.3         0.0           6.2  \n",
       "3      1782         75.7        21.2           3.1         0.0          10.8  \n",
       "4      5037         67.1        27.6           5.3         0.0           4.2  \n",
       "\n",
       "[5 rows x 37 columns]"
      ]
     },
     "execution_count": 4,
     "metadata": {},
     "output_type": "execute_result"
    }
   ],
   "source": [
    "census.head()"
   ]
  },
  {
   "cell_type": "markdown",
   "metadata": {},
   "source": [
    "### Start examining "
   ]
  },
  {
   "cell_type": "code",
   "execution_count": 5,
   "metadata": {},
   "outputs": [
    {
     "data": {
      "text/plain": [
       "Index(['CensusTract', 'State', 'County', 'TotalPop', 'Men', 'Women',\n",
       "       'Hispanic', 'White', 'Black', 'Native', 'Asian', 'Pacific', 'Citizen',\n",
       "       'Income', 'IncomeErr', 'IncomePerCap', 'IncomePerCapErr', 'Poverty',\n",
       "       'ChildPoverty', 'Professional', 'Service', 'Office', 'Construction',\n",
       "       'Production', 'Drive', 'Carpool', 'Transit', 'Walk', 'OtherTransp',\n",
       "       'WorkAtHome', 'MeanCommute', 'Employed', 'PrivateWork', 'PublicWork',\n",
       "       'SelfEmployed', 'FamilyWork', 'Unemployment'],\n",
       "      dtype='object')"
      ]
     },
     "execution_count": 5,
     "metadata": {},
     "output_type": "execute_result"
    }
   ],
   "source": [
    "census.columns"
   ]
  },
  {
   "cell_type": "code",
   "execution_count": null,
   "metadata": {},
   "outputs": [],
   "source": [
    "census.head()"
   ]
  },
  {
   "cell_type": "code",
   "execution_count": 6,
   "metadata": {},
   "outputs": [
    {
     "data": {
      "text/plain": [
       "(74001, 37)"
      ]
     },
     "execution_count": 6,
     "metadata": {},
     "output_type": "execute_result"
    }
   ],
   "source": [
    "census.shape"
   ]
  },
  {
   "cell_type": "code",
   "execution_count": 7,
   "metadata": {},
   "outputs": [
    {
     "name": "stdout",
     "output_type": "stream",
     "text": [
      "There are 37 columns in the Census dataset\n"
     ]
    },
    {
     "data": {
      "text/plain": [
       "Index(['CensusTract', 'State', 'County', 'TotalPop', 'Men', 'Women',\n",
       "       'Hispanic', 'White', 'Black', 'Native', 'Asian', 'Pacific', 'Citizen',\n",
       "       'Income', 'IncomeErr', 'IncomePerCap', 'IncomePerCapErr', 'Poverty',\n",
       "       'ChildPoverty', 'Professional', 'Service', 'Office', 'Construction',\n",
       "       'Production', 'Drive', 'Carpool', 'Transit', 'Walk', 'OtherTransp',\n",
       "       'WorkAtHome', 'MeanCommute', 'Employed', 'PrivateWork', 'PublicWork',\n",
       "       'SelfEmployed', 'FamilyWork', 'Unemployment'],\n",
       "      dtype='object')"
      ]
     },
     "execution_count": 7,
     "metadata": {},
     "output_type": "execute_result"
    }
   ],
   "source": [
    "print(\"There are %d columns in the Census dataset\" %len(census.columns))\n",
    "census.columns"
   ]
  },
  {
   "cell_type": "markdown",
   "metadata": {},
   "source": [
    "## Exploration"
   ]
  },
  {
   "cell_type": "code",
   "execution_count": 8,
   "metadata": {},
   "outputs": [
    {
     "name": "stdout",
     "output_type": "stream",
     "text": [
      "Total Population of the U.S. = 320,098,094\n"
     ]
    }
   ],
   "source": [
    "# Print the total population with the ','s in the right places\n",
    "print(\"Total Population of the U.S. = \"+\"{:,}\".format(census[\"TotalPop\"].sum())) # could have been max(), mean() etc."
   ]
  },
  {
   "cell_type": "markdown",
   "metadata": {},
   "source": [
    "### There are a couple of ways to extract stats from the dataframe:\n",
    "\n",
    "1. Dump the df by slicing\n",
    "2. Select out with conditional - x = loc[df[\"State\"] == \"StateName\", \"second column_name\"].mean()\n",
    "3. Create functions that return the answers you want - stat_data_df(state) and get_state_stat(df,stat,func) "
   ]
  },
  {
   "cell_type": "markdown",
   "metadata": {},
   "source": [
    "### 1: Slicing into DF"
   ]
  },
  {
   "cell_type": "code",
   "execution_count": 9,
   "metadata": {},
   "outputs": [
    {
     "name": "stdout",
     "output_type": "stream",
     "text": [
      "Here are rows 5-15 of the State column:       State  TotalPop\n",
      "5   Alabama      3851\n",
      "6   Alabama      2761\n",
      "7   Alabama      3187\n",
      "8   Alabama     10915\n",
      "9   Alabama      5668\n",
      "10  Alabama      3286\n",
      "11  Alabama      3295\n",
      "12  Alabama      3829\n",
      "13  Alabama      2869\n",
      "14  Alabama      7455\n"
     ]
    }
   ],
   "source": [
    "my_slice = census[[\"State\",\"TotalPop\"]][5:15]\n",
    "print(\"Here are rows 5-15 of the State column:\", my_slice)"
   ]
  },
  {
   "cell_type": "code",
   "execution_count": 10,
   "metadata": {},
   "outputs": [
    {
     "name": "stdout",
     "output_type": "stream",
     "text": [
      "Total Population of California in Thousands 38421464\n"
     ]
    }
   ],
   "source": [
    "cali = census[census.State == \"California\"]\n",
    "# sum 'TotalPop' column of just the first \n",
    "print(\"Total Population of California in Thousands\",cali[\"TotalPop\"].sum())"
   ]
  },
  {
   "cell_type": "code",
   "execution_count": 11,
   "metadata": {},
   "outputs": [
    {
     "name": "stdout",
     "output_type": "stream",
     "text": [
      "Total Population of California's Santa Clara County 1868149\n"
     ]
    }
   ],
   "source": [
    "sc_cty = cali[cali.County == \"Santa Clara\"]\n",
    "print(\"Total Population of California's Santa Clara County\",sc_cty[\"TotalPop\"].sum())"
   ]
  },
  {
   "cell_type": "markdown",
   "metadata": {},
   "source": [
    "### 2: Using Loc"
   ]
  },
  {
   "cell_type": "code",
   "execution_count": 12,
   "metadata": {},
   "outputs": [
    {
     "name": "stdout",
     "output_type": "stream",
     "text": [
      "Total Population of California = 38,421,464\n"
     ]
    }
   ],
   "source": [
    "# select using .loc\n",
    "# Print statement plus .format with selection by using .loc for \"State\" and two more selectors - Ca, TotalPop\n",
    "print(\"Total Population of California = \"+\"{:,}\".format(census.loc[census[\"State\"] == \"California\",\"TotalPop\"].sum()))"
   ]
  },
  {
   "cell_type": "markdown",
   "metadata": {},
   "source": [
    "### 3: Functions to carve out what you want\n",
    "\n",
    "We are creating these functions to do some housekeeping tasks that would be repetitive otherwise"
   ]
  },
  {
   "cell_type": "markdown",
   "metadata": {},
   "source": [
    "### state_data_df Returns a df just for one state"
   ]
  },
  {
   "cell_type": "code",
   "execution_count": 13,
   "metadata": {},
   "outputs": [],
   "source": [
    "# Utility function to return the data for one state in its own df\n",
    "# May simplify processing if we are just interested in a single state\n",
    "def state_data_df(state):\n",
    "    df_state = census[census[\"State\"]==str(state)]\n",
    "    return df_state"
   ]
  },
  {
   "cell_type": "markdown",
   "metadata": {},
   "source": [
    "### get_state_stat(df,stat,func) Returns a single stat for one state with func applied"
   ]
  },
  {
   "cell_type": "code",
   "execution_count": 14,
   "metadata": {},
   "outputs": [],
   "source": [
    "# Function to extract and return a stat from the state with function applied\n",
    "def get_state_stat(df,stat,func):\n",
    "    if func == 'sum':\n",
    "        state_stat = round(df[stat].sum(),2)\n",
    "    elif func == 'mean':\n",
    "        state_stat = round(df[stat].mean(),2)\n",
    "    elif func == 'max':\n",
    "        state_stat = round(df[stat].max(),2)\n",
    "    elif func == 'min':\n",
    "        state_stat = round(df[stat].min(),2)   \n",
    "    return(state_stat)"
   ]
  },
  {
   "cell_type": "markdown",
   "metadata": {},
   "source": [
    "### pop_comparison(state) prints a comparison of a state's population as a % of US. total population"
   ]
  },
  {
   "cell_type": "code",
   "execution_count": 15,
   "metadata": {},
   "outputs": [],
   "source": [
    "# function prints the Total us pop, Pop of the state that is passed and a % of the U.S. for that state\n",
    "def pop_comparison(state):\n",
    "    us_pop = census[\"TotalPop\"].sum()\n",
    "    data_state = census[census[\"State\"]==str(state)]\n",
    "    state_pop = data_state[\"TotalPop\"].sum()\n",
    "    print(\"Population\\n\")\n",
    "    print(\"Total U.S. = \"+\"{:,}\".format(us_pop))\n",
    "    print(\"Population of %s = \"%state +\"{:,}\".format(state_pop))\n",
    "    print(\"Which is %.2f %% of the total U.S. Population\"%((state_pop/us_pop)*100))"
   ]
  },
  {
   "cell_type": "code",
   "execution_count": 16,
   "metadata": {},
   "outputs": [],
   "source": [
    "# Scrape individual states into their own DF's to simplify things\n",
    "maine_df = state_data_df(\"Maine\")\n",
    "cali_df = state_data_df(\"California\")\n",
    "newyork_df = state_data_df(\"New York\")\n",
    "florida_df = state_data_df(\"Florida\")\n",
    "texas_df = state_data_df(\"Texas\")"
   ]
  },
  {
   "cell_type": "markdown",
   "metadata": {},
   "source": [
    "#### Call the get_state_stat(df,stat,func) to return the answers to this query"
   ]
  },
  {
   "cell_type": "code",
   "execution_count": 17,
   "metadata": {},
   "outputs": [
    {
     "name": "stdout",
     "output_type": "stream",
     "text": [
      "Maine Men Mean: 1,815.87\n",
      "Cali Men Mean: 2,369.01\n",
      "New York Men Mean: 1,940.18\n",
      "Florida Men Mean: 2,261.49\n",
      "Total Texas Income sum : $ 290,491,643.00\n"
     ]
    }
   ],
   "source": [
    "# get some stats from selected states\n",
    "stat_val = get_state_stat(maine_df,\"Men\", \"mean\")\n",
    "print(\"Maine Men Mean: \" +\"{:,.2f}\".format(stat_val))\n",
    "stat_val = get_state_stat(cali_df,\"Men\", \"mean\")\n",
    "print(\"Cali Men Mean: \" +\"{:,.2f}\".format(stat_val))\n",
    "stat_val = get_state_stat(newyork_df,\"Men\", \"mean\")\n",
    "print(\"New York Men Mean: \" +\"{:,.2f}\".format(stat_val))\n",
    "stat_val = get_state_stat(florida_df,\"Men\", \"mean\")\n",
    "print(\"Florida Men Mean: \" +\"{:,.2f}\".format(stat_val))\n",
    "stat_val = get_state_stat(texas_df,\"Income\",\"sum\")\n",
    "print(\"Total Texas Income sum : $ \" +\"{:,.2f}\".format(stat_val))"
   ]
  },
  {
   "cell_type": "code",
   "execution_count": 18,
   "metadata": {},
   "outputs": [
    {
     "name": "stdout",
     "output_type": "stream",
     "text": [
      "Maine Men Mean: 1,815.87\n",
      "Maine Wommen Mean: 1,896.70\n",
      "Maine Income Mean: 49,181.97\n",
      "Maine WFH Mean: 1,934.40\n",
      "Cali WFH Mean: 43,960.20\n",
      "Maine Mean WFH as % of Cali WFH : 4.40 %\n"
     ]
    }
   ],
   "source": [
    "# Look at one state - Maine\n",
    "maine_men = get_state_stat(maine_df,\"Men\",\"mean\")\n",
    "print(\"Maine Men Mean: \" +\"{:,.2f}\".format(maine_men))\n",
    "maine_women = get_state_stat(maine_df,\"Women\",\"mean\")\n",
    "print(\"Maine Wommen Mean: \" +\"{:,.2f}\".format(maine_women))\n",
    "maine_income = get_state_stat(maine_df,\"Income\",\"mean\")\n",
    "print(\"Maine Income Mean: \" +\"{:,.2f}\".format(maine_income))\n",
    "maine_wfh = get_state_stat(maine_df,\"WorkAtHome\",\"sum\")\n",
    "print(\"Maine WFH Mean: \" +\"{:,.2f}\".format(maine_wfh))\n",
    "cali_wfh = get_state_stat(cali_df,\"WorkAtHome\",\"sum\")\n",
    "print(\"Cali WFH Mean: \" +\"{:,.2f}\".format(cali_wfh))\n",
    "print(\"Maine Mean WFH as % of Cali WFH : \"+\"{:,.2f}\".format((maine_wfh/cali_wfh)*100)+\" %\")"
   ]
  },
  {
   "cell_type": "code",
   "execution_count": 19,
   "metadata": {},
   "outputs": [
    {
     "name": "stdout",
     "output_type": "stream",
     "text": [
      "Population\n",
      "\n",
      "Total U.S. = 320,098,094\n",
      "Population of California = 38,421,464\n",
      "Which is 12.00 % of the total U.S. Population\n",
      "\n",
      "\n",
      "Population\n",
      "\n",
      "Total U.S. = 320,098,094\n",
      "Population of Massachusetts = 6,705,586\n",
      "Which is 2.09 % of the total U.S. Population\n",
      "\n",
      "\n",
      "Population\n",
      "\n",
      "Total U.S. = 320,098,094\n",
      "Population of New York = 19,673,174\n",
      "Which is 6.15 % of the total U.S. Population\n",
      "\n",
      "\n",
      "Population\n",
      "\n",
      "Total U.S. = 320,098,094\n",
      "Population of Florida = 19,645,772\n",
      "Which is 6.14 % of the total U.S. Population\n",
      "\n",
      "\n",
      "Population\n",
      "\n",
      "Total U.S. = 320,098,094\n",
      "Population of Maine = 1,329,100\n",
      "Which is 0.42 % of the total U.S. Population\n"
     ]
    }
   ],
   "source": [
    "# Call pop_comparison for five states\n",
    "\n",
    "pop_comparison(\"California\")\n",
    "print(\"\\n\")\n",
    "pop_comparison(\"Massachusetts\")\n",
    "print(\"\\n\")\n",
    "pop_comparison(\"New York\")\n",
    "print(\"\\n\")\n",
    "pop_comparison(\"Florida\")\n",
    "print(\"\\n\")\n",
    "pop_comparison(\"Maine\")"
   ]
  },
  {
   "cell_type": "markdown",
   "metadata": {},
   "source": [
    "## Cleanup time\n",
    "\n",
    "### Sort frame, drop nan values and non-essential columns\n",
    "\n",
    "### What we will do in this section:\n",
    "\n",
    "1. Drop nans and one of the non-essential columns\n",
    "2. Sort"
   ]
  },
  {
   "cell_type": "code",
   "execution_count": 20,
   "metadata": {},
   "outputs": [
    {
     "data": {
      "text/plain": [
       "Index(['CensusTract', 'State', 'County', 'TotalPop', 'Men', 'Women',\n",
       "       'Hispanic', 'White', 'Black', 'Native', 'Asian', 'Pacific', 'Citizen',\n",
       "       'Income', 'IncomeErr', 'IncomePerCap', 'IncomePerCapErr', 'Poverty',\n",
       "       'ChildPoverty', 'Professional', 'Service', 'Office', 'Construction',\n",
       "       'Production', 'Drive', 'Carpool', 'Transit', 'Walk', 'OtherTransp',\n",
       "       'WorkAtHome', 'MeanCommute', 'Employed', 'PrivateWork', 'PublicWork',\n",
       "       'SelfEmployed', 'FamilyWork', 'Unemployment'],\n",
       "      dtype='object')"
      ]
     },
     "execution_count": 20,
     "metadata": {},
     "output_type": "execute_result"
    }
   ],
   "source": [
    "census.keys() # Similar to df.columns"
   ]
  },
  {
   "cell_type": "code",
   "execution_count": 21,
   "metadata": {},
   "outputs": [
    {
     "data": {
      "text/html": [
       "<div>\n",
       "<style scoped>\n",
       "    .dataframe tbody tr th:only-of-type {\n",
       "        vertical-align: middle;\n",
       "    }\n",
       "\n",
       "    .dataframe tbody tr th {\n",
       "        vertical-align: top;\n",
       "    }\n",
       "\n",
       "    .dataframe thead th {\n",
       "        text-align: right;\n",
       "    }\n",
       "</style>\n",
       "<table border=\"1\" class=\"dataframe\">\n",
       "  <thead>\n",
       "    <tr style=\"text-align: right;\">\n",
       "      <th></th>\n",
       "      <th>State</th>\n",
       "      <th>County</th>\n",
       "      <th>TotalPop</th>\n",
       "      <th>Men</th>\n",
       "      <th>Women</th>\n",
       "      <th>Hispanic</th>\n",
       "      <th>White</th>\n",
       "      <th>Black</th>\n",
       "      <th>Native</th>\n",
       "      <th>Asian</th>\n",
       "      <th>...</th>\n",
       "      <th>Walk</th>\n",
       "      <th>OtherTransp</th>\n",
       "      <th>WorkAtHome</th>\n",
       "      <th>MeanCommute</th>\n",
       "      <th>Employed</th>\n",
       "      <th>PrivateWork</th>\n",
       "      <th>PublicWork</th>\n",
       "      <th>SelfEmployed</th>\n",
       "      <th>FamilyWork</th>\n",
       "      <th>Unemployment</th>\n",
       "    </tr>\n",
       "  </thead>\n",
       "  <tbody>\n",
       "    <tr>\n",
       "      <th>0</th>\n",
       "      <td>Alabama</td>\n",
       "      <td>Autauga</td>\n",
       "      <td>1948</td>\n",
       "      <td>940</td>\n",
       "      <td>1008</td>\n",
       "      <td>0.9</td>\n",
       "      <td>87.4</td>\n",
       "      <td>7.7</td>\n",
       "      <td>0.3</td>\n",
       "      <td>0.6</td>\n",
       "      <td>...</td>\n",
       "      <td>0.5</td>\n",
       "      <td>2.3</td>\n",
       "      <td>2.1</td>\n",
       "      <td>25.0</td>\n",
       "      <td>943</td>\n",
       "      <td>77.1</td>\n",
       "      <td>18.3</td>\n",
       "      <td>4.6</td>\n",
       "      <td>0.0</td>\n",
       "      <td>5.4</td>\n",
       "    </tr>\n",
       "    <tr>\n",
       "      <th>1</th>\n",
       "      <td>Alabama</td>\n",
       "      <td>Autauga</td>\n",
       "      <td>2156</td>\n",
       "      <td>1059</td>\n",
       "      <td>1097</td>\n",
       "      <td>0.8</td>\n",
       "      <td>40.4</td>\n",
       "      <td>53.3</td>\n",
       "      <td>0.0</td>\n",
       "      <td>2.3</td>\n",
       "      <td>...</td>\n",
       "      <td>0.0</td>\n",
       "      <td>0.7</td>\n",
       "      <td>0.0</td>\n",
       "      <td>23.4</td>\n",
       "      <td>753</td>\n",
       "      <td>77.0</td>\n",
       "      <td>16.9</td>\n",
       "      <td>6.1</td>\n",
       "      <td>0.0</td>\n",
       "      <td>13.3</td>\n",
       "    </tr>\n",
       "    <tr>\n",
       "      <th>2</th>\n",
       "      <td>Alabama</td>\n",
       "      <td>Autauga</td>\n",
       "      <td>2968</td>\n",
       "      <td>1364</td>\n",
       "      <td>1604</td>\n",
       "      <td>0.0</td>\n",
       "      <td>74.5</td>\n",
       "      <td>18.6</td>\n",
       "      <td>0.5</td>\n",
       "      <td>1.4</td>\n",
       "      <td>...</td>\n",
       "      <td>0.0</td>\n",
       "      <td>0.0</td>\n",
       "      <td>2.5</td>\n",
       "      <td>19.6</td>\n",
       "      <td>1373</td>\n",
       "      <td>64.1</td>\n",
       "      <td>23.6</td>\n",
       "      <td>12.3</td>\n",
       "      <td>0.0</td>\n",
       "      <td>6.2</td>\n",
       "    </tr>\n",
       "    <tr>\n",
       "      <th>3</th>\n",
       "      <td>Alabama</td>\n",
       "      <td>Autauga</td>\n",
       "      <td>4423</td>\n",
       "      <td>2172</td>\n",
       "      <td>2251</td>\n",
       "      <td>10.5</td>\n",
       "      <td>82.8</td>\n",
       "      <td>3.7</td>\n",
       "      <td>1.6</td>\n",
       "      <td>0.0</td>\n",
       "      <td>...</td>\n",
       "      <td>0.0</td>\n",
       "      <td>2.6</td>\n",
       "      <td>1.6</td>\n",
       "      <td>25.3</td>\n",
       "      <td>1782</td>\n",
       "      <td>75.7</td>\n",
       "      <td>21.2</td>\n",
       "      <td>3.1</td>\n",
       "      <td>0.0</td>\n",
       "      <td>10.8</td>\n",
       "    </tr>\n",
       "    <tr>\n",
       "      <th>4</th>\n",
       "      <td>Alabama</td>\n",
       "      <td>Autauga</td>\n",
       "      <td>10763</td>\n",
       "      <td>4922</td>\n",
       "      <td>5841</td>\n",
       "      <td>0.7</td>\n",
       "      <td>68.5</td>\n",
       "      <td>24.8</td>\n",
       "      <td>0.0</td>\n",
       "      <td>3.8</td>\n",
       "      <td>...</td>\n",
       "      <td>0.0</td>\n",
       "      <td>0.6</td>\n",
       "      <td>0.9</td>\n",
       "      <td>24.8</td>\n",
       "      <td>5037</td>\n",
       "      <td>67.1</td>\n",
       "      <td>27.6</td>\n",
       "      <td>5.3</td>\n",
       "      <td>0.0</td>\n",
       "      <td>4.2</td>\n",
       "    </tr>\n",
       "  </tbody>\n",
       "</table>\n",
       "<p>5 rows × 36 columns</p>\n",
       "</div>"
      ],
      "text/plain": [
       "     State   County  TotalPop   Men  Women  Hispanic  White  Black  Native  \\\n",
       "0  Alabama  Autauga      1948   940   1008       0.9   87.4    7.7     0.3   \n",
       "1  Alabama  Autauga      2156  1059   1097       0.8   40.4   53.3     0.0   \n",
       "2  Alabama  Autauga      2968  1364   1604       0.0   74.5   18.6     0.5   \n",
       "3  Alabama  Autauga      4423  2172   2251      10.5   82.8    3.7     1.6   \n",
       "4  Alabama  Autauga     10763  4922   5841       0.7   68.5   24.8     0.0   \n",
       "\n",
       "   Asian      ...       Walk  OtherTransp  WorkAtHome  MeanCommute  Employed  \\\n",
       "0    0.6      ...        0.5          2.3         2.1         25.0       943   \n",
       "1    2.3      ...        0.0          0.7         0.0         23.4       753   \n",
       "2    1.4      ...        0.0          0.0         2.5         19.6      1373   \n",
       "3    0.0      ...        0.0          2.6         1.6         25.3      1782   \n",
       "4    3.8      ...        0.0          0.6         0.9         24.8      5037   \n",
       "\n",
       "   PrivateWork  PublicWork  SelfEmployed  FamilyWork  Unemployment  \n",
       "0         77.1        18.3           4.6         0.0           5.4  \n",
       "1         77.0        16.9           6.1         0.0          13.3  \n",
       "2         64.1        23.6          12.3         0.0           6.2  \n",
       "3         75.7        21.2           3.1         0.0          10.8  \n",
       "4         67.1        27.6           5.3         0.0           4.2  \n",
       "\n",
       "[5 rows x 36 columns]"
      ]
     },
     "execution_count": 21,
     "metadata": {},
     "output_type": "execute_result"
    }
   ],
   "source": [
    "census = census.drop(['CensusTract'],axis=1)\n",
    "census.head()"
   ]
  },
  {
   "cell_type": "code",
   "execution_count": 22,
   "metadata": {},
   "outputs": [
    {
     "data": {
      "text/plain": [
       "(72727, 36)"
      ]
     },
     "execution_count": 22,
     "metadata": {},
     "output_type": "execute_result"
    }
   ],
   "source": [
    "census = census.dropna()\n",
    "census.shape"
   ]
  },
  {
   "cell_type": "code",
   "execution_count": 23,
   "metadata": {},
   "outputs": [
    {
     "data": {
      "text/html": [
       "<div>\n",
       "<style scoped>\n",
       "    .dataframe tbody tr th:only-of-type {\n",
       "        vertical-align: middle;\n",
       "    }\n",
       "\n",
       "    .dataframe tbody tr th {\n",
       "        vertical-align: top;\n",
       "    }\n",
       "\n",
       "    .dataframe thead th {\n",
       "        text-align: right;\n",
       "    }\n",
       "</style>\n",
       "<table border=\"1\" class=\"dataframe\">\n",
       "  <thead>\n",
       "    <tr style=\"text-align: right;\">\n",
       "      <th></th>\n",
       "      <th>State</th>\n",
       "      <th>County</th>\n",
       "      <th>TotalPop</th>\n",
       "      <th>Men</th>\n",
       "      <th>Women</th>\n",
       "      <th>Hispanic</th>\n",
       "      <th>White</th>\n",
       "      <th>Black</th>\n",
       "      <th>Native</th>\n",
       "      <th>Asian</th>\n",
       "      <th>...</th>\n",
       "      <th>Walk</th>\n",
       "      <th>OtherTransp</th>\n",
       "      <th>WorkAtHome</th>\n",
       "      <th>MeanCommute</th>\n",
       "      <th>Employed</th>\n",
       "      <th>PrivateWork</th>\n",
       "      <th>PublicWork</th>\n",
       "      <th>SelfEmployed</th>\n",
       "      <th>FamilyWork</th>\n",
       "      <th>Unemployment</th>\n",
       "    </tr>\n",
       "  </thead>\n",
       "  <tbody>\n",
       "    <tr>\n",
       "      <th>0</th>\n",
       "      <td>Alabama</td>\n",
       "      <td>Autauga</td>\n",
       "      <td>1948</td>\n",
       "      <td>940</td>\n",
       "      <td>1008</td>\n",
       "      <td>0.9</td>\n",
       "      <td>87.4</td>\n",
       "      <td>7.7</td>\n",
       "      <td>0.3</td>\n",
       "      <td>0.6</td>\n",
       "      <td>...</td>\n",
       "      <td>0.5</td>\n",
       "      <td>2.3</td>\n",
       "      <td>2.1</td>\n",
       "      <td>25.0</td>\n",
       "      <td>943</td>\n",
       "      <td>77.1</td>\n",
       "      <td>18.3</td>\n",
       "      <td>4.6</td>\n",
       "      <td>0.0</td>\n",
       "      <td>5.4</td>\n",
       "    </tr>\n",
       "    <tr>\n",
       "      <th>1</th>\n",
       "      <td>Alabama</td>\n",
       "      <td>Autauga</td>\n",
       "      <td>2156</td>\n",
       "      <td>1059</td>\n",
       "      <td>1097</td>\n",
       "      <td>0.8</td>\n",
       "      <td>40.4</td>\n",
       "      <td>53.3</td>\n",
       "      <td>0.0</td>\n",
       "      <td>2.3</td>\n",
       "      <td>...</td>\n",
       "      <td>0.0</td>\n",
       "      <td>0.7</td>\n",
       "      <td>0.0</td>\n",
       "      <td>23.4</td>\n",
       "      <td>753</td>\n",
       "      <td>77.0</td>\n",
       "      <td>16.9</td>\n",
       "      <td>6.1</td>\n",
       "      <td>0.0</td>\n",
       "      <td>13.3</td>\n",
       "    </tr>\n",
       "    <tr>\n",
       "      <th>2</th>\n",
       "      <td>Alabama</td>\n",
       "      <td>Autauga</td>\n",
       "      <td>2968</td>\n",
       "      <td>1364</td>\n",
       "      <td>1604</td>\n",
       "      <td>0.0</td>\n",
       "      <td>74.5</td>\n",
       "      <td>18.6</td>\n",
       "      <td>0.5</td>\n",
       "      <td>1.4</td>\n",
       "      <td>...</td>\n",
       "      <td>0.0</td>\n",
       "      <td>0.0</td>\n",
       "      <td>2.5</td>\n",
       "      <td>19.6</td>\n",
       "      <td>1373</td>\n",
       "      <td>64.1</td>\n",
       "      <td>23.6</td>\n",
       "      <td>12.3</td>\n",
       "      <td>0.0</td>\n",
       "      <td>6.2</td>\n",
       "    </tr>\n",
       "    <tr>\n",
       "      <th>3</th>\n",
       "      <td>Alabama</td>\n",
       "      <td>Autauga</td>\n",
       "      <td>4423</td>\n",
       "      <td>2172</td>\n",
       "      <td>2251</td>\n",
       "      <td>10.5</td>\n",
       "      <td>82.8</td>\n",
       "      <td>3.7</td>\n",
       "      <td>1.6</td>\n",
       "      <td>0.0</td>\n",
       "      <td>...</td>\n",
       "      <td>0.0</td>\n",
       "      <td>2.6</td>\n",
       "      <td>1.6</td>\n",
       "      <td>25.3</td>\n",
       "      <td>1782</td>\n",
       "      <td>75.7</td>\n",
       "      <td>21.2</td>\n",
       "      <td>3.1</td>\n",
       "      <td>0.0</td>\n",
       "      <td>10.8</td>\n",
       "    </tr>\n",
       "    <tr>\n",
       "      <th>4</th>\n",
       "      <td>Alabama</td>\n",
       "      <td>Autauga</td>\n",
       "      <td>10763</td>\n",
       "      <td>4922</td>\n",
       "      <td>5841</td>\n",
       "      <td>0.7</td>\n",
       "      <td>68.5</td>\n",
       "      <td>24.8</td>\n",
       "      <td>0.0</td>\n",
       "      <td>3.8</td>\n",
       "      <td>...</td>\n",
       "      <td>0.0</td>\n",
       "      <td>0.6</td>\n",
       "      <td>0.9</td>\n",
       "      <td>24.8</td>\n",
       "      <td>5037</td>\n",
       "      <td>67.1</td>\n",
       "      <td>27.6</td>\n",
       "      <td>5.3</td>\n",
       "      <td>0.0</td>\n",
       "      <td>4.2</td>\n",
       "    </tr>\n",
       "  </tbody>\n",
       "</table>\n",
       "<p>5 rows × 36 columns</p>\n",
       "</div>"
      ],
      "text/plain": [
       "     State   County  TotalPop   Men  Women  Hispanic  White  Black  Native  \\\n",
       "0  Alabama  Autauga      1948   940   1008       0.9   87.4    7.7     0.3   \n",
       "1  Alabama  Autauga      2156  1059   1097       0.8   40.4   53.3     0.0   \n",
       "2  Alabama  Autauga      2968  1364   1604       0.0   74.5   18.6     0.5   \n",
       "3  Alabama  Autauga      4423  2172   2251      10.5   82.8    3.7     1.6   \n",
       "4  Alabama  Autauga     10763  4922   5841       0.7   68.5   24.8     0.0   \n",
       "\n",
       "   Asian      ...       Walk  OtherTransp  WorkAtHome  MeanCommute  Employed  \\\n",
       "0    0.6      ...        0.5          2.3         2.1         25.0       943   \n",
       "1    2.3      ...        0.0          0.7         0.0         23.4       753   \n",
       "2    1.4      ...        0.0          0.0         2.5         19.6      1373   \n",
       "3    0.0      ...        0.0          2.6         1.6         25.3      1782   \n",
       "4    3.8      ...        0.0          0.6         0.9         24.8      5037   \n",
       "\n",
       "   PrivateWork  PublicWork  SelfEmployed  FamilyWork  Unemployment  \n",
       "0         77.1        18.3           4.6         0.0           5.4  \n",
       "1         77.0        16.9           6.1         0.0          13.3  \n",
       "2         64.1        23.6          12.3         0.0           6.2  \n",
       "3         75.7        21.2           3.1         0.0          10.8  \n",
       "4         67.1        27.6           5.3         0.0           4.2  \n",
       "\n",
       "[5 rows x 36 columns]"
      ]
     },
     "execution_count": 23,
     "metadata": {},
     "output_type": "execute_result"
    }
   ],
   "source": [
    "census.head()"
   ]
  },
  {
   "cell_type": "code",
   "execution_count": 24,
   "metadata": {},
   "outputs": [
    {
     "data": {
      "text/plain": [
       "Index(['State', 'County', 'TotalPop', 'Men', 'Women', 'Hispanic', 'White',\n",
       "       'Black', 'Native', 'Asian', 'Pacific', 'Citizen', 'Income', 'IncomeErr',\n",
       "       'IncomePerCap', 'IncomePerCapErr', 'Poverty', 'ChildPoverty',\n",
       "       'Professional', 'Service', 'Office', 'Construction', 'Production',\n",
       "       'Drive', 'Carpool', 'Transit', 'Walk', 'OtherTransp', 'WorkAtHome',\n",
       "       'MeanCommute', 'Employed', 'PrivateWork', 'PublicWork', 'SelfEmployed',\n",
       "       'FamilyWork', 'Unemployment'],\n",
       "      dtype='object')"
      ]
     },
     "execution_count": 24,
     "metadata": {},
     "output_type": "execute_result"
    }
   ],
   "source": [
    "census.columns"
   ]
  },
  {
   "cell_type": "markdown",
   "metadata": {},
   "source": [
    "### Groupby and sort so we can make a plot with Seaborn"
   ]
  },
  {
   "cell_type": "markdown",
   "metadata": {},
   "source": [
    "Create a percentages list of columns that are numercial\n",
    "round everything and put it into a percentage range"
   ]
  },
  {
   "cell_type": "code",
   "execution_count": 25,
   "metadata": {},
   "outputs": [],
   "source": [
    "percentages = ['Hispanic', 'White', 'Black', 'Native', 'Asian', 'Pacific','Poverty', 'ChildPoverty', \n",
    "               'Professional', 'Service', 'Office','Construction','Production','Drive','Carpool','Transit',\n",
    "               'Walk','OtherTransp','WorkAtHome', 'PrivateWork', 'PublicWork', 'SelfEmployed', 'FamilyWork', \n",
    "               'Unemployment']\n",
    "for i in percentages:\n",
    "    census[i] = round(census['TotalPop'] * census[i] / 100)   "
   ]
  },
  {
   "cell_type": "code",
   "execution_count": 26,
   "metadata": {},
   "outputs": [],
   "source": [
    "# It will only have 52 rows, one for each state\n",
    "census = census.groupby('State', as_index=False).sum()"
   ]
  },
  {
   "cell_type": "markdown",
   "metadata": {},
   "source": [
    "### Plot with Seaborn\n",
    "\n"
   ]
  },
  {
   "cell_type": "code",
   "execution_count": 27,
   "metadata": {},
   "outputs": [],
   "source": [
    "# Imports\n",
    "\n",
    "import matplotlib.pyplot as plt\n",
    "%matplotlib inline\n",
    "import seaborn as sns"
   ]
  },
  {
   "cell_type": "code",
   "execution_count": 28,
   "metadata": {},
   "outputs": [],
   "source": [
    "# Let's perform a simple bar plot of the total population by state"
   ]
  },
  {
   "cell_type": "code",
   "execution_count": 29,
   "metadata": {},
   "outputs": [
    {
     "data": {
      "text/plain": [
       "(array([ 0,  1,  2,  3,  4,  5,  6,  7,  8,  9, 10, 11, 12, 13, 14, 15, 16,\n",
       "        17, 18, 19, 20, 21, 22, 23, 24, 25, 26, 27, 28, 29, 30, 31, 32, 33,\n",
       "        34, 35, 36, 37, 38, 39, 40, 41, 42, 43, 44, 45, 46, 47, 48, 49, 50,\n",
       "        51]), <a list of 52 Text xticklabel objects>)"
      ]
     },
     "execution_count": 29,
     "metadata": {},
     "output_type": "execute_result"
    },
    {
     "data": {
      "image/png": "[encoded data removed]",
      "text/plain": [
       "<Figure size 1008x288 with 1 Axes>"
      ]
     },
     "metadata": {
      "needs_background": "light"
     },
     "output_type": "display_data"
    }
   ],
   "source": [
    "fig, ax = plt.subplots(figsize=(14,4))\n",
    "fig = sns.barplot(x=census['State'], y=census['TotalPop'],data=census)\n",
    "fig.axis(ymin=0, ymax=40000000)\n",
    "plt.xticks(rotation=90)"
   ]
  },
  {
   "cell_type": "markdown",
   "metadata": {},
   "source": [
    "* How about some conditional selection based on gender, race and population "
   ]
  },
  {
   "cell_type": "code",
   "execution_count": 30,
   "metadata": {},
   "outputs": [
    {
     "data": {
      "text/html": [
       "<div>\n",
       "<style scoped>\n",
       "    .dataframe tbody tr th:only-of-type {\n",
       "        vertical-align: middle;\n",
       "    }\n",
       "\n",
       "    .dataframe tbody tr th {\n",
       "        vertical-align: top;\n",
       "    }\n",
       "\n",
       "    .dataframe thead th {\n",
       "        text-align: right;\n",
       "    }\n",
       "</style>\n",
       "<table border=\"1\" class=\"dataframe\">\n",
       "  <thead>\n",
       "    <tr style=\"text-align: right;\">\n",
       "      <th></th>\n",
       "      <th>State</th>\n",
       "      <th>TotalPop</th>\n",
       "      <th>Men</th>\n",
       "      <th>Women</th>\n",
       "      <th>Hispanic</th>\n",
       "      <th>White</th>\n",
       "      <th>Black</th>\n",
       "      <th>Native</th>\n",
       "      <th>Asian</th>\n",
       "      <th>Pacific</th>\n",
       "      <th>...</th>\n",
       "      <th>Walk</th>\n",
       "      <th>OtherTransp</th>\n",
       "      <th>WorkAtHome</th>\n",
       "      <th>MeanCommute</th>\n",
       "      <th>Employed</th>\n",
       "      <th>PrivateWork</th>\n",
       "      <th>PublicWork</th>\n",
       "      <th>SelfEmployed</th>\n",
       "      <th>FamilyWork</th>\n",
       "      <th>Unemployment</th>\n",
       "    </tr>\n",
       "  </thead>\n",
       "  <tbody>\n",
       "    <tr>\n",
       "      <th>4</th>\n",
       "      <td>California</td>\n",
       "      <td>38221472</td>\n",
       "      <td>18933999</td>\n",
       "      <td>19287473</td>\n",
       "      <td>14692293.0</td>\n",
       "      <td>14798592.0</td>\n",
       "      <td>2127149.0</td>\n",
       "      <td>140367.0</td>\n",
       "      <td>5176065.0</td>\n",
       "      <td>138295.0</td>\n",
       "      <td>...</td>\n",
       "      <td>996420.0</td>\n",
       "      <td>942280.0</td>\n",
       "      <td>1976858.0</td>\n",
       "      <td>221289.7</td>\n",
       "      <td>17227654</td>\n",
       "      <td>29653010.0</td>\n",
       "      <td>5367271.0</td>\n",
       "      <td>3133738.0</td>\n",
       "      <td>67771.0</td>\n",
       "      <td>3882730.0</td>\n",
       "    </tr>\n",
       "    <tr>\n",
       "      <th>29</th>\n",
       "      <td>New Hampshire</td>\n",
       "      <td>1324201</td>\n",
       "      <td>653484</td>\n",
       "      <td>670717</td>\n",
       "      <td>42138.0</td>\n",
       "      <td>1210349.0</td>\n",
       "      <td>15467.0</td>\n",
       "      <td>1917.0</td>\n",
       "      <td>31109.0</td>\n",
       "      <td>230.0</td>\n",
       "      <td>...</td>\n",
       "      <td>40533.0</td>\n",
       "      <td>16685.0</td>\n",
       "      <td>79720.0</td>\n",
       "      <td>7773.3</td>\n",
       "      <td>698810</td>\n",
       "      <td>1051932.0</td>\n",
       "      <td>178401.0</td>\n",
       "      <td>92202.0</td>\n",
       "      <td>1569.0</td>\n",
       "      <td>76731.0</td>\n",
       "    </tr>\n",
       "    <tr>\n",
       "      <th>37</th>\n",
       "      <td>Oregon</td>\n",
       "      <td>3939233</td>\n",
       "      <td>1948453</td>\n",
       "      <td>1990780</td>\n",
       "      <td>485656.0</td>\n",
       "      <td>3042948.0</td>\n",
       "      <td>69110.0</td>\n",
       "      <td>36325.0</td>\n",
       "      <td>154411.0</td>\n",
       "      <td>14325.0</td>\n",
       "      <td>...</td>\n",
       "      <td>158402.0</td>\n",
       "      <td>128937.0</td>\n",
       "      <td>245917.0</td>\n",
       "      <td>18752.2</td>\n",
       "      <td>1789807</td>\n",
       "      <td>3058983.0</td>\n",
       "      <td>564227.0</td>\n",
       "      <td>309229.0</td>\n",
       "      <td>6701.0</td>\n",
       "      <td>374214.0</td>\n",
       "    </tr>\n",
       "    <tr>\n",
       "      <th>46</th>\n",
       "      <td>Vermont</td>\n",
       "      <td>626604</td>\n",
       "      <td>308573</td>\n",
       "      <td>318031</td>\n",
       "      <td>10701.0</td>\n",
       "      <td>586539.0</td>\n",
       "      <td>6739.0</td>\n",
       "      <td>1857.0</td>\n",
       "      <td>8672.0</td>\n",
       "      <td>185.0</td>\n",
       "      <td>...</td>\n",
       "      <td>37293.0</td>\n",
       "      <td>10097.0</td>\n",
       "      <td>41867.0</td>\n",
       "      <td>4160.3</td>\n",
       "      <td>326732</td>\n",
       "      <td>475152.0</td>\n",
       "      <td>91692.0</td>\n",
       "      <td>58318.0</td>\n",
       "      <td>1452.0</td>\n",
       "      <td>34751.0</td>\n",
       "    </tr>\n",
       "    <tr>\n",
       "      <th>48</th>\n",
       "      <td>Washington</td>\n",
       "      <td>6977372</td>\n",
       "      <td>3482455</td>\n",
       "      <td>3494917</td>\n",
       "      <td>834539.0</td>\n",
       "      <td>4939626.0</td>\n",
       "      <td>243173.0</td>\n",
       "      <td>80693.0</td>\n",
       "      <td>529058.0</td>\n",
       "      <td>42454.0</td>\n",
       "      <td>...</td>\n",
       "      <td>228502.0</td>\n",
       "      <td>141628.0</td>\n",
       "      <td>377110.0</td>\n",
       "      <td>37633.5</td>\n",
       "      <td>3258598</td>\n",
       "      <td>5383656.0</td>\n",
       "      <td>1159643.0</td>\n",
       "      <td>421363.0</td>\n",
       "      <td>12668.0</td>\n",
       "      <td>560386.0</td>\n",
       "    </tr>\n",
       "  </tbody>\n",
       "</table>\n",
       "<p>5 rows × 35 columns</p>\n",
       "</div>"
      ],
      "text/plain": [
       "            State  TotalPop       Men     Women    Hispanic       White  \\\n",
       "4      California  38221472  18933999  19287473  14692293.0  14798592.0   \n",
       "29  New Hampshire   1324201    653484    670717     42138.0   1210349.0   \n",
       "37         Oregon   3939233   1948453   1990780    485656.0   3042948.0   \n",
       "46        Vermont    626604    308573    318031     10701.0    586539.0   \n",
       "48     Washington   6977372   3482455   3494917    834539.0   4939626.0   \n",
       "\n",
       "        Black    Native      Asian   Pacific      ...           Walk  \\\n",
       "4   2127149.0  140367.0  5176065.0  138295.0      ...       996420.0   \n",
       "29    15467.0    1917.0    31109.0     230.0      ...        40533.0   \n",
       "37    69110.0   36325.0   154411.0   14325.0      ...       158402.0   \n",
       "46     6739.0    1857.0     8672.0     185.0      ...        37293.0   \n",
       "48   243173.0   80693.0   529058.0   42454.0      ...       228502.0   \n",
       "\n",
       "    OtherTransp  WorkAtHome  MeanCommute  Employed  PrivateWork  PublicWork  \\\n",
       "4      942280.0   1976858.0     221289.7  17227654   29653010.0   5367271.0   \n",
       "29      16685.0     79720.0       7773.3    698810    1051932.0    178401.0   \n",
       "37     128937.0    245917.0      18752.2   1789807    3058983.0    564227.0   \n",
       "46      10097.0     41867.0       4160.3    326732     475152.0     91692.0   \n",
       "48     141628.0    377110.0      37633.5   3258598    5383656.0   1159643.0   \n",
       "\n",
       "    SelfEmployed  FamilyWork  Unemployment  \n",
       "4      3133738.0     67771.0     3882730.0  \n",
       "29       92202.0      1569.0       76731.0  \n",
       "37      309229.0      6701.0      374214.0  \n",
       "46       58318.0      1452.0       34751.0  \n",
       "48      421363.0     12668.0      560386.0  \n",
       "\n",
       "[5 rows x 35 columns]"
      ]
     },
     "execution_count": 30,
     "metadata": {},
     "output_type": "execute_result"
    }
   ],
   "source": [
    "census[(census['Men']/census['Women'] < 1) & (census['Asian'] > census['Black']) | (census['TotalPop']>35000000)]"
   ]
  },
  {
   "cell_type": "code",
   "execution_count": null,
   "metadata": {},
   "outputs": [],
   "source": [
    "census[(census['White'] < census['Black'])]"
   ]
  },
  {
   "cell_type": "code",
   "execution_count": null,
   "metadata": {},
   "outputs": [],
   "source": [
    "# more women than men\n",
    "census[(census['Women'] > census['Men'])]"
   ]
  },
  {
   "cell_type": "code",
   "execution_count": null,
   "metadata": {},
   "outputs": [],
   "source": [
    "# It looks like 42 out of 50 states have more Women than Men\n",
    "census[(census[\"Women\"] / census[\"Men\"] >1)]"
   ]
  },
  {
   "cell_type": "code",
   "execution_count": 32,
   "metadata": {},
   "outputs": [],
   "source": [
    "# Create new column for Poverty Ratio which is Poverty/TotalPop\n",
    "census['Pov_Ratio'] = census['Poverty'] / census['TotalPop']"
   ]
  },
  {
   "cell_type": "markdown",
   "metadata": {},
   "source": [
    "#### Plot the Poverty Ratio by state (Poverty/TotalPop)"
   ]
  },
  {
   "cell_type": "code",
   "execution_count": 33,
   "metadata": {},
   "outputs": [
    {
     "data": {
      "text/plain": [
       "(array([ 0,  1,  2,  3,  4,  5,  6,  7,  8,  9, 10, 11, 12, 13, 14, 15, 16,\n",
       "        17, 18, 19, 20, 21, 22, 23, 24, 25, 26, 27, 28, 29, 30, 31, 32, 33,\n",
       "        34, 35, 36, 37, 38, 39, 40, 41, 42, 43, 44, 45, 46, 47, 48, 49, 50,\n",
       "        51]), <a list of 52 Text xticklabel objects>)"
      ]
     },
     "execution_count": 33,
     "metadata": {},
     "output_type": "execute_result"
    },
    {
     "data": {
      "image/png": "[encoded data removed]",
      "text/plain": [
       "<Figure size 1008x288 with 1 Axes>"
      ]
     },
     "metadata": {
      "needs_background": "light"
     },
     "output_type": "display_data"
    }
   ],
   "source": [
    "fig, ax = plt.subplots(figsize=(14,4))\n",
    "fig = sns.barplot(x=census['State'], y=census['Pov_Ratio'],data=census)\n",
    "fig.axis(ymin=0, ymax=.6)\n",
    "plt.xticks(rotation=90)"
   ]
  },
  {
   "cell_type": "markdown",
   "metadata": {},
   "source": [
    "#### Plot the Child_Pov_Ratio by state (ChildPoverty/TotalPop)"
   ]
  },
  {
   "cell_type": "code",
   "execution_count": 34,
   "metadata": {},
   "outputs": [],
   "source": [
    "# Create new column for Child Poverty Ratio which is ChildPoverty/TotalPop\n",
    "census['Child_Pov_Ratio'] = census['ChildPoverty'] / census['TotalPop']"
   ]
  },
  {
   "cell_type": "code",
   "execution_count": 35,
   "metadata": {},
   "outputs": [
    {
     "data": {
      "text/plain": [
       "(array([ 0,  1,  2,  3,  4,  5,  6,  7,  8,  9, 10, 11, 12, 13, 14, 15, 16,\n",
       "        17, 18, 19, 20, 21, 22, 23, 24, 25, 26, 27, 28, 29, 30, 31, 32, 33,\n",
       "        34, 35, 36, 37, 38, 39, 40, 41, 42, 43, 44, 45, 46, 47, 48, 49, 50,\n",
       "        51]), <a list of 52 Text xticklabel objects>)"
      ]
     },
     "execution_count": 35,
     "metadata": {},
     "output_type": "execute_result"
    },
    {
     "data": {
      "image/png": "[encoded data removed]",
      "text/plain": [
       "<Figure size 1008x288 with 1 Axes>"
      ]
     },
     "metadata": {
      "needs_background": "light"
     },
     "output_type": "display_data"
    }
   ],
   "source": [
    "fig, ax = plt.subplots(figsize=(14,4))\n",
    "fig = sns.barplot(x=census['State'], y=census['Child_Pov_Ratio'],data=census)\n",
    "fig.axis(ymin=0, ymax=.6)\n",
    "plt.xticks(rotation=90)"
   ]
  },
  {
   "cell_type": "markdown",
   "metadata": {},
   "source": [
    "#### Interesting statistic to examine would be the ratio of child vs. non-child poverty as a % of TotalPop\n",
    "\n",
    "\n"
   ]
  },
  {
   "cell_type": "code",
   "execution_count": null,
   "metadata": {},
   "outputs": [],
   "source": [
    "# import seaborn as sns\n",
    "# sns.set(style=\"whitegrid\")"
   ]
  },
  {
   "cell_type": "markdown",
   "metadata": {},
   "source": [
    "Create array of abbreviations based on the "
   ]
  },
  {
   "cell_type": "code",
   "execution_count": 36,
   "metadata": {},
   "outputs": [],
   "source": [
    "import matplotlib.pyplot as plt\n",
    "sns.set(style=\"whitegrid\")"
   ]
  },
  {
   "cell_type": "code",
   "execution_count": 37,
   "metadata": {},
   "outputs": [
    {
     "data": {
      "image/png": "[encoded data removed]",
      "text/plain": [
       "<Figure size 1152x720 with 1 Axes>"
      ]
     },
     "metadata": {},
     "output_type": "display_data"
    }
   ],
   "source": [
    "f, ax = plt.subplots(figsize=(16, 10))\n",
    "\n",
    "sns.set_color_codes(\"muted\")\n",
    "sns.barplot(x=\"State\", y=\"Child_Pov_Ratio\", data=census,\n",
    "            label=\"Child Poverty Ratio\", color=\"b\")\n",
    "\n",
    "sns.set_color_codes(\"pastel\")\n",
    "sns.barplot(x=\"State\", y=\"Pov_Ratio\", data=census,\n",
    "            label=\"Total Poverty Ratio\", color=\"b\")\n",
    "\n",
    "ax.legend(ncol=2, loc=\"upper left\", frameon=True)\n",
    "ax.set(xlim=(0, 24), ylabel=\"\",\n",
    "       xlabel=\"Child Poverty vs. Total Poverty\")\n",
    "sns.despine(left=True, bottom=True)"
   ]
  },
  {
   "cell_type": "markdown",
   "metadata": {},
   "source": [
    "### How about a cleaner looking plot ?\n",
    "\n",
    "#### Let's use State Abbreviations instead of names so it tightens up the x-axis\n",
    "\n",
    "We pickled the dictionary containing the key:value of state:abbreviation\n",
    "Now we can map it into the dataframe so it will be used as the 'X' axis in the plot"
   ]
  },
  {
   "cell_type": "code",
   "execution_count": 38,
   "metadata": {},
   "outputs": [],
   "source": [
    "# Map the us_state_abbrev values to a new column called 'StAbbv'\n",
    "# unpickle the state abbreviations from a saved pickle file\n",
    "\n",
    "with open('state_abbs.pickle', 'rb') as handle:\n",
    "    us_state_abbrev = pickle.load(handle)"
   ]
  },
  {
   "cell_type": "code",
   "execution_count": 39,
   "metadata": {},
   "outputs": [],
   "source": [
    "# This statement will add a new column to the dataframe called 'StAbbv' which will hold the abbreviated state names\n",
    "census['StAbbv'] = census[\"State\"].map(us_state_abbrev)"
   ]
  },
  {
   "cell_type": "code",
   "execution_count": 40,
   "metadata": {},
   "outputs": [
    {
     "data": {
      "text/html": [
       "<div>\n",
       "<style scoped>\n",
       "    .dataframe tbody tr th:only-of-type {\n",
       "        vertical-align: middle;\n",
       "    }\n",
       "\n",
       "    .dataframe tbody tr th {\n",
       "        vertical-align: top;\n",
       "    }\n",
       "\n",
       "    .dataframe thead th {\n",
       "        text-align: right;\n",
       "    }\n",
       "</style>\n",
       "<table border=\"1\" class=\"dataframe\">\n",
       "  <thead>\n",
       "    <tr style=\"text-align: right;\">\n",
       "      <th></th>\n",
       "      <th>State</th>\n",
       "      <th>TotalPop</th>\n",
       "      <th>Men</th>\n",
       "      <th>Women</th>\n",
       "      <th>Hispanic</th>\n",
       "      <th>White</th>\n",
       "      <th>Black</th>\n",
       "      <th>Native</th>\n",
       "      <th>Asian</th>\n",
       "      <th>Pacific</th>\n",
       "      <th>...</th>\n",
       "      <th>MeanCommute</th>\n",
       "      <th>Employed</th>\n",
       "      <th>PrivateWork</th>\n",
       "      <th>PublicWork</th>\n",
       "      <th>SelfEmployed</th>\n",
       "      <th>FamilyWork</th>\n",
       "      <th>Unemployment</th>\n",
       "      <th>Pov_Ratio</th>\n",
       "      <th>Child_Pov_Ratio</th>\n",
       "      <th>StAbbv</th>\n",
       "    </tr>\n",
       "  </thead>\n",
       "  <tbody>\n",
       "    <tr>\n",
       "      <th>47</th>\n",
       "      <td>Virginia</td>\n",
       "      <td>8202003</td>\n",
       "      <td>4030052</td>\n",
       "      <td>4171951</td>\n",
       "      <td>706305.0</td>\n",
       "      <td>5203049.0</td>\n",
       "      <td>1549383.0</td>\n",
       "      <td>16852.0</td>\n",
       "      <td>485435.0</td>\n",
       "      <td>4975.0</td>\n",
       "      <td>...</td>\n",
       "      <td>51127.1</td>\n",
       "      <td>3977156</td>\n",
       "      <td>6094519.0</td>\n",
       "      <td>1687052.0</td>\n",
       "      <td>410302.0</td>\n",
       "      <td>10354.0</td>\n",
       "      <td>545816.0</td>\n",
       "      <td>0.116528</td>\n",
       "      <td>0.153983</td>\n",
       "      <td>VA</td>\n",
       "    </tr>\n",
       "    <tr>\n",
       "      <th>48</th>\n",
       "      <td>Washington</td>\n",
       "      <td>6977372</td>\n",
       "      <td>3482455</td>\n",
       "      <td>3494917</td>\n",
       "      <td>834539.0</td>\n",
       "      <td>4939626.0</td>\n",
       "      <td>243173.0</td>\n",
       "      <td>80693.0</td>\n",
       "      <td>529058.0</td>\n",
       "      <td>42454.0</td>\n",
       "      <td>...</td>\n",
       "      <td>37633.5</td>\n",
       "      <td>3258598</td>\n",
       "      <td>5383656.0</td>\n",
       "      <td>1159643.0</td>\n",
       "      <td>421363.0</td>\n",
       "      <td>12668.0</td>\n",
       "      <td>560386.0</td>\n",
       "      <td>0.134609</td>\n",
       "      <td>0.170959</td>\n",
       "      <td>WA</td>\n",
       "    </tr>\n",
       "    <tr>\n",
       "      <th>49</th>\n",
       "      <td>West Virginia</td>\n",
       "      <td>1851420</td>\n",
       "      <td>913631</td>\n",
       "      <td>937789</td>\n",
       "      <td>25426.0</td>\n",
       "      <td>1713466.0</td>\n",
       "      <td>60363.0</td>\n",
       "      <td>2705.0</td>\n",
       "      <td>13296.0</td>\n",
       "      <td>469.0</td>\n",
       "      <td>...</td>\n",
       "      <td>12268.1</td>\n",
       "      <td>751252</td>\n",
       "      <td>1415982.0</td>\n",
       "      <td>351294.0</td>\n",
       "      <td>81958.0</td>\n",
       "      <td>2157.0</td>\n",
       "      <td>147254.0</td>\n",
       "      <td>0.181494</td>\n",
       "      <td>0.248899</td>\n",
       "      <td>WV</td>\n",
       "    </tr>\n",
       "    <tr>\n",
       "      <th>50</th>\n",
       "      <td>Wisconsin</td>\n",
       "      <td>5726162</td>\n",
       "      <td>2842827</td>\n",
       "      <td>2883335</td>\n",
       "      <td>363768.0</td>\n",
       "      <td>4718671.0</td>\n",
       "      <td>352947.0</td>\n",
       "      <td>45985.0</td>\n",
       "      <td>140911.0</td>\n",
       "      <td>1083.0</td>\n",
       "      <td>...</td>\n",
       "      <td>30618.8</td>\n",
       "      <td>2875637</td>\n",
       "      <td>4716720.0</td>\n",
       "      <td>702451.0</td>\n",
       "      <td>296464.0</td>\n",
       "      <td>10503.0</td>\n",
       "      <td>373634.0</td>\n",
       "      <td>0.130826</td>\n",
       "      <td>0.167541</td>\n",
       "      <td>WI</td>\n",
       "    </tr>\n",
       "    <tr>\n",
       "      <th>51</th>\n",
       "      <td>Wyoming</td>\n",
       "      <td>579679</td>\n",
       "      <td>295561</td>\n",
       "      <td>284118</td>\n",
       "      <td>55681.0</td>\n",
       "      <td>489646.0</td>\n",
       "      <td>5963.0</td>\n",
       "      <td>11006.0</td>\n",
       "      <td>5161.0</td>\n",
       "      <td>383.0</td>\n",
       "      <td>...</td>\n",
       "      <td>2420.7</td>\n",
       "      <td>293949</td>\n",
       "      <td>416467.0</td>\n",
       "      <td>124583.0</td>\n",
       "      <td>37077.0</td>\n",
       "      <td>1527.0</td>\n",
       "      <td>28565.0</td>\n",
       "      <td>0.116970</td>\n",
       "      <td>0.148206</td>\n",
       "      <td>WY</td>\n",
       "    </tr>\n",
       "  </tbody>\n",
       "</table>\n",
       "<p>5 rows × 38 columns</p>\n",
       "</div>"
      ],
      "text/plain": [
       "            State  TotalPop      Men    Women  Hispanic      White      Black  \\\n",
       "47       Virginia   8202003  4030052  4171951  706305.0  5203049.0  1549383.0   \n",
       "48     Washington   6977372  3482455  3494917  834539.0  4939626.0   243173.0   \n",
       "49  West Virginia   1851420   913631   937789   25426.0  1713466.0    60363.0   \n",
       "50      Wisconsin   5726162  2842827  2883335  363768.0  4718671.0   352947.0   \n",
       "51        Wyoming    579679   295561   284118   55681.0   489646.0     5963.0   \n",
       "\n",
       "     Native     Asian  Pacific   ...    MeanCommute  Employed  PrivateWork  \\\n",
       "47  16852.0  485435.0   4975.0   ...        51127.1   3977156    6094519.0   \n",
       "48  80693.0  529058.0  42454.0   ...        37633.5   3258598    5383656.0   \n",
       "49   2705.0   13296.0    469.0   ...        12268.1    751252    1415982.0   \n",
       "50  45985.0  140911.0   1083.0   ...        30618.8   2875637    4716720.0   \n",
       "51  11006.0    5161.0    383.0   ...         2420.7    293949     416467.0   \n",
       "\n",
       "    PublicWork  SelfEmployed  FamilyWork  Unemployment  Pov_Ratio  \\\n",
       "47   1687052.0      410302.0     10354.0      545816.0   0.116528   \n",
       "48   1159643.0      421363.0     12668.0      560386.0   0.134609   \n",
       "49    351294.0       81958.0      2157.0      147254.0   0.181494   \n",
       "50    702451.0      296464.0     10503.0      373634.0   0.130826   \n",
       "51    124583.0       37077.0      1527.0       28565.0   0.116970   \n",
       "\n",
       "    Child_Pov_Ratio  StAbbv  \n",
       "47         0.153983      VA  \n",
       "48         0.170959      WA  \n",
       "49         0.248899      WV  \n",
       "50         0.167541      WI  \n",
       "51         0.148206      WY  \n",
       "\n",
       "[5 rows x 38 columns]"
      ]
     },
     "execution_count": 40,
     "metadata": {},
     "output_type": "execute_result"
    }
   ],
   "source": [
    "# Check out the new column\n",
    "census.tail()"
   ]
  },
  {
   "cell_type": "code",
   "execution_count": 41,
   "metadata": {
    "scrolled": false
   },
   "outputs": [
    {
     "data": {
      "image/png": "[encoded data removed]",
      "text/plain": [
       "<Figure size 1296x720 with 1 Axes>"
      ]
     },
     "metadata": {},
     "output_type": "display_data"
    }
   ],
   "source": [
    "# Now the cleaner plot with the state abbreviations\n",
    "\n",
    "# Set up the figure\n",
    "f, ax = plt.subplots(figsize=(18, 10))\n",
    "sns.set()\n",
    "sns.set_context(\"talk\",font_scale=.8)\n",
    "sns.set_color_codes(\"muted\")\n",
    "\n",
    "# Now the two barplots with the two different stats combined\n",
    "# Child Poverty Ratio\n",
    "sns.barplot(x=\"StAbbv\", y=\"Child_Pov_Ratio\", data=census,\n",
    "            label=\"Child Poverty Ratio\", color=\"b\")\n",
    "\n",
    "# Total Poverty Ratio\n",
    "sns.set_color_codes(\"pastel\")\n",
    "sns.barplot(x=\"StAbbv\", y=\"Pov_Ratio\", data=census,\n",
    "            label=\"Total Poverty Ratio\", color=\"b\").set_title(\"Poverty Statistics by State\")\n",
    "\n",
    "ax.legend(ncol=2, loc=\"upper left\", frameon=True)\n",
    "ax.set(xlim=(0, 51), ylabel=\"\",\n",
    "       xlabel=\"Child Poverty vs. Total Poverty\")\n",
    "sns.despine(left=True, bottom=True)\n",
    "\n",
    "\n",
    "\n"
   ]
  },
  {
   "cell_type": "code",
   "execution_count": null,
   "metadata": {},
   "outputs": [],
   "source": []
  },
  {
   "cell_type": "code",
   "execution_count": null,
   "metadata": {},
   "outputs": [],
   "source": []
  },
  {
   "cell_type": "code",
   "execution_count": null,
   "metadata": {},
   "outputs": [],
   "source": []
  },
  {
   "cell_type": "code",
   "execution_count": null,
   "metadata": {},
   "outputs": [],
   "source": []
  }
 ],
 "metadata": {
  "kernelspec": {
   "display_name": "Python 3",
   "language": "python",
   "name": "python3"
  },
  "language_info": {
   "codemirror_mode": {
    "name": "ipython",
    "version": 3
   },
   "file_extension": ".py",
   "mimetype": "text/x-python",
   "name": "python",
   "nbconvert_exporter": "python",
   "pygments_lexer": "ipython3",
   "version": "3.7.3"
  }
 },
 "nbformat": 4,
 "nbformat_minor": 2
}
